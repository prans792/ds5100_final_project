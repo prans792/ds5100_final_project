{
 "cells": [
  {
   "cell_type": "markdown",
   "id": "45762487-d33f-486d-8e38-2cdea04e3528",
   "metadata": {},
   "source": [
    "# Final Project Report\n",
    "\n",
    "* Class: DS 5100\n",
    "* Student Name: Pranav Thiriveedhi\n",
    "* Student Net ID: avz7me\n",
    "* This URL: https://github.com/prans792/ds5100_final_project/blob/main/DS51200_FinalProjectTemplate.ipyn"
   ]
  },
  {
   "cell_type": "markdown",
   "id": "acf756c1-ecaa-41dc-b6ca-d566eb94560b",
   "metadata": {},
   "source": [
    "# Instructions\n",
    "\n",
    "Follow the instructions in the Final Project isntructions notebook and put evidence of your work in this notebook.\n",
    "\n",
    "Total points for each subsection under **Deliverables** and **Scenarios** are given in parentheses.\n",
    "\n",
    "Breakdowns of points within subsections are specified within subsection instructions as bulleted lists.\n",
    "\n",
    "This project is worth **50 points**."
   ]
  },
  {
   "cell_type": "markdown",
   "id": "89dc7a32-f682-4402-8c1e-b6ccdb3e0e39",
   "metadata": {},
   "source": [
    "# Deliverables"
   ]
  },
  {
   "cell_type": "markdown",
   "id": "d32cb273-9a40-4909-a7ce-51f6e4958d3c",
   "metadata": {},
   "source": [
    "## The Monte Carlo Module (10)\n",
    "\n",
    "- URL included, appropriately named (1).\n",
    "- Includes all three specified classes (3).\n",
    "- Includes at least all 12 specified methods (6; .5 each)."
   ]
  },
  {
   "cell_type": "markdown",
   "id": "f5f3b070-de9e-4de9-bfae-8974d184aa28",
   "metadata": {},
   "source": [
    "Put the URL to your GitHub repo here.\n",
    "\n",
    "Repo URL: https://github.com/prans792/ds5100_final_project"
   ]
  },
  {
   "cell_type": "markdown",
   "id": "162370fb-3729-4c85-b040-8c25b2c966d2",
   "metadata": {},
   "source": [
    "Paste a copyy of your module here.\n",
    "\n",
    "NOTE: Paste as text, not as code. Use triple backticks to wrap your code blocks."
   ]
  },
  {
   "cell_type": "code",
   "execution_count": 1,
   "id": "a0743efc-a785-4b5c-a9e6-b65d4507a67f",
   "metadata": {
    "tags": []
   },
   "outputs": [
    {
     "data": {
      "text/plain": [
       "'\\n# Monte Carlo Module\\n# Pranav Thiriveedhi\\n# DS 5100 Final Project\\n\\n# Import Statements\\nimport numpy as np\\nimport pandas as pd\\n\\n\\n# Die Class\\nclass Die:\\n    \"\"\"\\n    Die has N sides and W weights, can be rolled to select a face.\\n    If N = 2, it is a coin, if N = 6, it is a standard die.\\n    \"\"\"\\n    def __init__(self, faces):\\n        \"\"\"\\n        Die with number of faces as an argument.\\n        Parameters:\\n        - faces: Array of number of faces.\\n        Raises:\\n        - TypeError: Number of faces is not a NumPy array.\\n        - ValueError: Number of faces is not distinct.\\n        \"\"\"\\n        if not isinstance(faces, np.ndarray):\\n            raise TypeError(\"Number of faces must be a NumPy array.\")\\n        if len(faces) != len(set(faces)):\\n            raise ValueError(\"Each face should have a distinct value.\")\\n        \\n        self._faces = faces\\n        self._weights = np.ones(len(faces), dtype=float)\\n        self._die_df = pd.DataFrame({\\'Face\\': faces, \\'Weight\\': self._weights}).set_index(\\'Face\\')\\n\\n    def change_weight(self, face_value, new_weight):\\n        \"\"\"\\n        Changes the weight of a face\\'s value to a new weight.\\n        Parameters:\\n        - face_value: The face value to change the weight for.\\n        - new_weight (int or float): The new weight value for the face specified.\\n        Raises:\\n        - IndexError: The face is not in the die array.\\n        - TypeError: The weight is not numeric (int or float).\\n        \"\"\"\\n        if face_value not in self._die_df.index:\\n            raise IndexError(\"Face is not in die array.\")\\n        try:\\n            new_weight = float(new_weight)\\n        except ValueError:\\n            raise TypeError(\"Weight is not a numeric value.\")\\n        self._die_df.at[face_value, \\'Weight\\'] = new_weight\\n\\n    def roll(self, num_rolls=1):\\n        \"\"\"\\n        How many times a die is rolled.\\n        Parameters:\\n        - num_rolls (int): Number of die rolls. Defaults to 1.\\n        Returns:\\n        - list: List of rolled faces.\\n        \"\"\"\\n        return list(self._die_df.sample(n=num_rolls, weights=\\'Weight\\', replace=True).index)\\n\\n    def show(self):\\n        \"\"\"\\n        Returns a copy of the private dataframe of the die\\'s current status\\n        Returns:\\n        - pd.DataFrame: Data frame of current state of die.\\n        \"\"\"\\n        return self._die_df.copy()\\n\\n    \\n# Game Class\\nclass Game:\\n    \"\"\"\\n    Game involving rolling one or more die objects, one or more times.\\n    \"\"\"\\n    def __init__(self, dice):\\n        \"\"\"\\n        List of similar dice.\\n        Parameters:\\n        - dice (list of Die): List of Die objects.\\n        \"\"\"\\n        self._dice = dice\\n        self._results_df = None\\n\\n    def play(self, num_rolls):\\n        \"\"\"\\n        Rolls dice a specified number of times.\\n        Parameters:\\n        - num_rolls (int): Number of rolls to play.\\n        Updates:\\n        - _results_df (pd.DataFrame): Results of the game in wide format.\\n        \"\"\"\\n        rolls = {f\\'Die_{i}\\': die.roll(num_rolls) for i, die in enumerate(self._dice)}\\n        self._results_df = pd.DataFrame(rolls)\\n\\n    def show(self, form=\\'wide\\'):\\n        \"\"\"\\n        Shows the results of the most recent play.\\n        Parameters:\\n        - form (str): wide or narrow format. Defaults to wide.\\n        Returns:\\n        - pd.DataFrame: Dataframe in wide or narrow format.\\n        Raises:\\n        - ValueError: If an invalid format is given.\\n        \"\"\"\\n        if self._results_df is None:\\n            return None\\n        \\n        if form == \\'wide\\':\\n            return self._results_df.copy()\\n        elif form == \\'narrow\\':\\n            return self._results_df.stack().reset_index(name=\\'Face\\').rename(columns={\\'roll_0\\': \\'Roll\\', \\'roll_1\\': \\'Die\\'})\\n        else:\\n            raise ValueError(\"Needs to be a narrow or wide option.\")\\n\\n\\n# Analyzer Class\\nclass Analyzer:\\n    \"\"\"\\n    A class to analyze the results of a game and computer varius statistics about it.\\n    \"\"\"\\n    def __init__(self, game):\\n        \"\"\"\\n        Initializes the Analyzer with a Game object.\\n        Parameters:\\n        - game (Game): Game object.\\n        Raises:\\n        - ValueError: If the value is not a Game object.\\n        \"\"\"\\n        if not isinstance(game, Game):\\n            raise ValueError(\"Passed value must be a Game object.\")\\n        self._game = game\\n        self._results = game.show()\\n\\n    def jackpot(self):\\n        \"\"\"\\n        Number of jackpots (all faces are the same in a roll).\\n        Returns:\\n        - int: How many times the game resulted in jackpots.\\n        \"\"\"\\n        return (self._results.nunique(axis=1) == 1).sum()\\n\\n    def face_counts(self):\\n        \"\"\"\\n        Counts of each face value for each roll.\\n        Returns:\\n        - pd.DataFrame: Data frame of results.\\n        \"\"\"\\n        return self._results.apply(pd.Series.value_counts, axis=1).fillna(0)\\n\\n    def combo_counts(self):\\n        \"\"\"\\n        Distinct combinations of rolled faces with counts.\\n        Returns:\\n        - pd.DataFrame: Data frame with combinations and counts.\\n        \"\"\"\\n        combination = self._results.apply(lambda row: tuple(sorted(row)), axis=1)\\n        return combination.value_counts().rename_axis(\\'Combination\\').reset_index(name=\\'Count\\')\\n\\n    def permutation_counts(self):\\n        \"\"\"\\n        Distinct permutations of rolled faces with counts.\\n        Returns:\\n        - pd.DataFrame: Data frame with permutations and counts.\\n        \"\"\"\\n        permutations = self._results.apply(tuple, axis=1)\\n        return permutations.value_counts().rename_axis(\\'Permutation\\').reset_index(name=\\'Count\\')\\n'"
      ]
     },
     "execution_count": 1,
     "metadata": {},
     "output_type": "execute_result"
    }
   ],
   "source": [
    "# A code block with your classes.\n",
    "'''\n",
    "# Monte Carlo Module\n",
    "# Pranav Thiriveedhi\n",
    "# DS 5100 Final Project\n",
    "\n",
    "# Import Statements\n",
    "import numpy as np\n",
    "import pandas as pd\n",
    "\n",
    "\n",
    "# Die Class\n",
    "class Die:\n",
    "    \"\"\"\n",
    "    Die has N sides and W weights, can be rolled to select a face.\n",
    "    If N = 2, it is a coin, if N = 6, it is a standard die.\n",
    "    \"\"\"\n",
    "    def __init__(self, faces):\n",
    "        \"\"\"\n",
    "        Die with number of faces as an argument.\n",
    "        Parameters:\n",
    "        - faces: Array of number of faces.\n",
    "        Raises:\n",
    "        - TypeError: Number of faces is not a NumPy array.\n",
    "        - ValueError: Number of faces is not distinct.\n",
    "        \"\"\"\n",
    "        if not isinstance(faces, np.ndarray):\n",
    "            raise TypeError(\"Number of faces must be a NumPy array.\")\n",
    "        if len(faces) != len(set(faces)):\n",
    "            raise ValueError(\"Each face should have a distinct value.\")\n",
    "        \n",
    "        self._faces = faces\n",
    "        self._weights = np.ones(len(faces), dtype=float)\n",
    "        self._die_df = pd.DataFrame({'Face': faces, 'Weight': self._weights}).set_index('Face')\n",
    "\n",
    "    def change_weight(self, face_value, new_weight):\n",
    "        \"\"\"\n",
    "        Changes the weight of a face's value to a new weight.\n",
    "        Parameters:\n",
    "        - face_value: The face value to change the weight for.\n",
    "        - new_weight (int or float): The new weight value for the face specified.\n",
    "        Raises:\n",
    "        - IndexError: The face is not in the die array.\n",
    "        - TypeError: The weight is not numeric (int or float).\n",
    "        \"\"\"\n",
    "        if face_value not in self._die_df.index:\n",
    "            raise IndexError(\"Face is not in die array.\")\n",
    "        try:\n",
    "            new_weight = float(new_weight)\n",
    "        except ValueError:\n",
    "            raise TypeError(\"Weight is not a numeric value.\")\n",
    "        self._die_df.at[face_value, 'Weight'] = new_weight\n",
    "\n",
    "    def roll(self, num_rolls=1):\n",
    "        \"\"\"\n",
    "        How many times a die is rolled.\n",
    "        Parameters:\n",
    "        - num_rolls (int): Number of die rolls. Defaults to 1.\n",
    "        Returns:\n",
    "        - list: List of rolled faces.\n",
    "        \"\"\"\n",
    "        return list(self._die_df.sample(n=num_rolls, weights='Weight', replace=True).index)\n",
    "\n",
    "    def show(self):\n",
    "        \"\"\"\n",
    "        Returns a copy of the private dataframe of the die's current status\n",
    "        Returns:\n",
    "        - pd.DataFrame: Data frame of current state of die.\n",
    "        \"\"\"\n",
    "        return self._die_df.copy()\n",
    "\n",
    "    \n",
    "# Game Class\n",
    "class Game:\n",
    "    \"\"\"\n",
    "    Game involving rolling one or more die objects, one or more times.\n",
    "    \"\"\"\n",
    "    def __init__(self, dice):\n",
    "        \"\"\"\n",
    "        List of similar dice.\n",
    "        Parameters:\n",
    "        - dice (list of Die): List of Die objects.\n",
    "        \"\"\"\n",
    "        self._dice = dice\n",
    "        self._results_df = None\n",
    "\n",
    "    def play(self, num_rolls):\n",
    "        \"\"\"\n",
    "        Rolls dice a specified number of times.\n",
    "        Parameters:\n",
    "        - num_rolls (int): Number of rolls to play.\n",
    "        Updates:\n",
    "        - _results_df (pd.DataFrame): Results of the game in wide format.\n",
    "        \"\"\"\n",
    "        rolls = {f'Die_{i}': die.roll(num_rolls) for i, die in enumerate(self._dice)}\n",
    "        self._results_df = pd.DataFrame(rolls)\n",
    "\n",
    "    def show(self, form='wide'):\n",
    "        \"\"\"\n",
    "        Shows the results of the most recent play.\n",
    "        Parameters:\n",
    "        - form (str): wide or narrow format. Defaults to wide.\n",
    "        Returns:\n",
    "        - pd.DataFrame: Dataframe in wide or narrow format.\n",
    "        Raises:\n",
    "        - ValueError: If an invalid format is given.\n",
    "        \"\"\"\n",
    "        if self._results_df is None:\n",
    "            return None\n",
    "        \n",
    "        if form == 'wide':\n",
    "            return self._results_df.copy()\n",
    "        elif form == 'narrow':\n",
    "            return self._results_df.stack().reset_index(name='Face').rename(columns={'roll_0': 'Roll', 'roll_1': 'Die'})\n",
    "        else:\n",
    "            raise ValueError(\"Needs to be a narrow or wide option.\")\n",
    "\n",
    "\n",
    "# Analyzer Class\n",
    "class Analyzer:\n",
    "    \"\"\"\n",
    "    A class to analyze the results of a game and computer varius statistics about it.\n",
    "    \"\"\"\n",
    "    def __init__(self, game):\n",
    "        \"\"\"\n",
    "        Initializes the Analyzer with a Game object.\n",
    "        Parameters:\n",
    "        - game (Game): Game object.\n",
    "        Raises:\n",
    "        - ValueError: If the value is not a Game object.\n",
    "        \"\"\"\n",
    "        if not isinstance(game, Game):\n",
    "            raise ValueError(\"Passed value must be a Game object.\")\n",
    "        self._game = game\n",
    "        self._results = game.show()\n",
    "\n",
    "    def jackpot(self):\n",
    "        \"\"\"\n",
    "        Number of jackpots (all faces are the same in a roll).\n",
    "        Returns:\n",
    "        - int: How many times the game resulted in jackpots.\n",
    "        \"\"\"\n",
    "        return (self._results.nunique(axis=1) == 1).sum()\n",
    "\n",
    "    def face_counts(self):\n",
    "        \"\"\"\n",
    "        Counts of each face value for each roll.\n",
    "        Returns:\n",
    "        - pd.DataFrame: Data frame of results.\n",
    "        \"\"\"\n",
    "        return self._results.apply(pd.Series.value_counts, axis=1).fillna(0)\n",
    "\n",
    "    def combo_counts(self):\n",
    "        \"\"\"\n",
    "        Distinct combinations of rolled faces with counts.\n",
    "        Returns:\n",
    "        - pd.DataFrame: Data frame with combinations and counts.\n",
    "        \"\"\"\n",
    "        combination = self._results.apply(lambda row: tuple(sorted(row)), axis=1)\n",
    "        return combination.value_counts().rename_axis('Combination').reset_index(name='Count')\n",
    "\n",
    "    def permutation_counts(self):\n",
    "        \"\"\"\n",
    "        Distinct permutations of rolled faces with counts.\n",
    "        Returns:\n",
    "        - pd.DataFrame: Data frame with permutations and counts.\n",
    "        \"\"\"\n",
    "        permutations = self._results.apply(tuple, axis=1)\n",
    "        return permutations.value_counts().rename_axis('Permutation').reset_index(name='Count')\n",
    "'''"
   ]
  },
  {
   "cell_type": "markdown",
   "id": "6377727a-8f0a-491e-9f1c-d9dc225edd35",
   "metadata": {},
   "source": [
    "## Unitest Module (2)\n",
    "\n",
    "Paste a copy of your test module below.\n",
    "\n",
    "NOTE: Paste as text, not as code. Use triple backticks to wrap your code blocks.\n",
    "\n",
    "- All methods have at least one test method (1).\n",
    "- Each method employs one of Unittest's Assert methods (1)."
   ]
  },
  {
   "cell_type": "code",
   "execution_count": 3,
   "id": "14b878d8-258b-4cf2-ad88-b8ee90d43977",
   "metadata": {
    "tags": []
   },
   "outputs": [
    {
     "data": {
      "text/plain": [
       "\"\\n# Unittest Monte Carlo Module\\n# Pranav Thiriveedhi\\n# DS 5100 Final Project\\n\\n# Import Statements\\nimport unittest\\nimport numpy as np\\nimport pandas as pd\\nfrom montecarlo import Die, Game, Analyzer\\n\\n\\nclass TestDie(unittest.TestCase):\\n    def setUp(self):\\n        self.faces = np.array([1, 2, 3, 4, 5, 6])\\n        self.die = Die(self.faces)\\n\\n    def test_initializer(self):\\n        self.assertTrue(isinstance(self.die.show(), pd.DataFrame))\\n        self.assertEqual(self.die.show().shape[0], len(self.faces))\\n\\n    def test_change_weight(self):\\n        self.die.change_weight(1, 3)\\n        df = self.die.show()\\n        self.assertEqual(df.at[1, 'Weight'], 3)\\n\\n    def test_roll(self):\\n        rolls = self.die.roll(10)\\n        self.assertEqual(len(rolls), 10)\\n        self.assertTrue(all(face in self.faces for face in rolls))\\n\\n    def test_show(self):\\n        df = self.die.show()\\n        self.assertTrue(isinstance(df, pd.DataFrame))\\n        self.assertTrue('Weight' in df.columns)\\n\\n\\nclass TestGame(unittest.TestCase):\\n    def setUp(self):\\n        faces = np.array([1, 2, 3, 4, 5, 6])\\n        d1 = Die(faces)\\n        d2 = Die(faces)\\n        self.game = Game([d1, d2])\\n\\n    def test_initializer(self):\\n        self.assertTrue(isinstance(self.game, Game))\\n\\n    def test_play(self):\\n        self.game.play(3)\\n        results = self.game.show()\\n        self.assertTrue(isinstance(results, pd.DataFrame))\\n        self.assertEqual(results.shape[0], 3)\\n\\n    def test_show(self):\\n        self.game.play(3)\\n        wide_results = self.game.show(form='wide')\\n        self.assertTrue(isinstance(wide_results, pd.DataFrame))\\n\\n        narrow_results = self.game.show(form='narrow')\\n        self.assertTrue(isinstance(narrow_results, pd.DataFrame))\\n        self.assertTrue('Die' in narrow_results.columns)\\n        self.assertTrue('Face' in narrow_results.columns)\\n\\n\\nclass TestAnalyzer(unittest.TestCase):\\n    def setUp(self):\\n        faces = np.array(['1', '2', '3'])\\n        d1 = Die(faces)\\n        d2 = Die(faces)\\n        self.game = Game([d1, d2])\\n        self.game.play(5)\\n        self.analyzer = Analyzer(self.game)\\n\\n    def test_initializer(self):\\n        self.assertTrue(isinstance(self.analyzer, Analyzer))\\n\\n    def test_jackpot(self):\\n        result = self.analyzer.jackpot()\\n\\n    def test_face_counts(self):\\n        df = self.analyzer.face_counts()\\n        self.assertTrue(isinstance(df, pd.DataFrame))\\n        self.assertEqual(df.shape[0], 5)  # Matches number of rolls\\n\\n    def test_combo_counts(self):\\n        df = self.analyzer.combo_counts()\\n        self.assertTrue(isinstance(df, pd.DataFrame))\\n        self.assertTrue('Combination' in df.columns or df.index.name == 'Combination')\\n        self.assertTrue('Count' in df.columns)\\n\\n    def test_permutation_counts(self):\\n        df = self.analyzer.permutation_counts()\\n        self.assertTrue(isinstance(df, pd.DataFrame))\\n        self.assertTrue('Permutation' in df.columns or df.index.name == 'Permutation')\\n        self.assertTrue('Count' in df.columns)\\n\\n\\nif __name__ == '__main__':\\n    unittest.main()\\n\""
      ]
     },
     "execution_count": 3,
     "metadata": {},
     "output_type": "execute_result"
    }
   ],
   "source": [
    "# A code block with your test code.\n",
    "'''\n",
    "# Unittest Monte Carlo Module\n",
    "# Pranav Thiriveedhi\n",
    "# DS 5100 Final Project\n",
    "\n",
    "# Import Statements\n",
    "import unittest\n",
    "import numpy as np\n",
    "import pandas as pd\n",
    "from montecarlo import Die, Game, Analyzer\n",
    "\n",
    "\n",
    "class TestDie(unittest.TestCase):\n",
    "    def setUp(self):\n",
    "        self.faces = np.array([1, 2, 3, 4, 5, 6])\n",
    "        self.die = Die(self.faces)\n",
    "\n",
    "    def test_initializer(self):\n",
    "        self.assertTrue(isinstance(self.die.show(), pd.DataFrame))\n",
    "        self.assertEqual(self.die.show().shape[0], len(self.faces))\n",
    "\n",
    "    def test_change_weight(self):\n",
    "        self.die.change_weight(1, 3)\n",
    "        df = self.die.show()\n",
    "        self.assertEqual(df.at[1, 'Weight'], 3)\n",
    "\n",
    "    def test_roll(self):\n",
    "        rolls = self.die.roll(10)\n",
    "        self.assertEqual(len(rolls), 10)\n",
    "        self.assertTrue(all(face in self.faces for face in rolls))\n",
    "\n",
    "    def test_show(self):\n",
    "        df = self.die.show()\n",
    "        self.assertTrue(isinstance(df, pd.DataFrame))\n",
    "        self.assertTrue('Weight' in df.columns)\n",
    "\n",
    "\n",
    "class TestGame(unittest.TestCase):\n",
    "    def setUp(self):\n",
    "        faces = np.array([1, 2, 3, 4, 5, 6])\n",
    "        d1 = Die(faces)\n",
    "        d2 = Die(faces)\n",
    "        self.game = Game([d1, d2])\n",
    "\n",
    "    def test_initializer(self):\n",
    "        self.assertTrue(isinstance(self.game, Game))\n",
    "\n",
    "    def test_play(self):\n",
    "        self.game.play(3)\n",
    "        results = self.game.show()\n",
    "        self.assertTrue(isinstance(results, pd.DataFrame))\n",
    "        self.assertEqual(results.shape[0], 3)\n",
    "\n",
    "    def test_show(self):\n",
    "        self.game.play(3)\n",
    "        wide_results = self.game.show(form='wide')\n",
    "        self.assertTrue(isinstance(wide_results, pd.DataFrame))\n",
    "\n",
    "        narrow_results = self.game.show(form='narrow')\n",
    "        self.assertTrue(isinstance(narrow_results, pd.DataFrame))\n",
    "        self.assertTrue('Die' in narrow_results.columns)\n",
    "        self.assertTrue('Face' in narrow_results.columns)\n",
    "\n",
    "\n",
    "class TestAnalyzer(unittest.TestCase):\n",
    "    def setUp(self):\n",
    "        faces = np.array(['1', '2', '3'])\n",
    "        d1 = Die(faces)\n",
    "        d2 = Die(faces)\n",
    "        self.game = Game([d1, d2])\n",
    "        self.game.play(5)\n",
    "        self.analyzer = Analyzer(self.game)\n",
    "\n",
    "    def test_initializer(self):\n",
    "        self.assertTrue(isinstance(self.analyzer, Analyzer))\n",
    "\n",
    "    def test_jackpot(self):\n",
    "        result = self.analyzer.jackpot()\n",
    "\n",
    "    def test_face_counts(self):\n",
    "        df = self.analyzer.face_counts()\n",
    "        self.assertTrue(isinstance(df, pd.DataFrame))\n",
    "        self.assertEqual(df.shape[0], 5)  # Matches number of rolls\n",
    "\n",
    "    def test_combo_counts(self):\n",
    "        df = self.analyzer.combo_counts()\n",
    "        self.assertTrue(isinstance(df, pd.DataFrame))\n",
    "        self.assertTrue('Combination' in df.columns or df.index.name == 'Combination')\n",
    "        self.assertTrue('Count' in df.columns)\n",
    "\n",
    "    def test_permutation_counts(self):\n",
    "        df = self.analyzer.permutation_counts()\n",
    "        self.assertTrue(isinstance(df, pd.DataFrame))\n",
    "        self.assertTrue('Permutation' in df.columns or df.index.name == 'Permutation')\n",
    "        self.assertTrue('Count' in df.columns)\n",
    "\n",
    "\n",
    "if __name__ == '__main__':\n",
    "    unittest.main()\n",
    "'''"
   ]
  },
  {
   "cell_type": "markdown",
   "id": "3e058d03-29bc-408f-b36d-0605b4f4b8c0",
   "metadata": {
    "tags": []
   },
   "source": [
    "## Unittest Results (3)\n",
    "\n",
    "Put a copy of the results of running your tests from the command line here.\n",
    "\n",
    "Again, paste as text using triple backticks.\n",
    "\n",
    "- All 12 specified methods return OK (3; .25 each)."
   ]
  },
  {
   "cell_type": "code",
   "execution_count": 4,
   "id": "dd69aed1-3577-4ab2-b3e5-304205dd28bc",
   "metadata": {
    "tags": []
   },
   "outputs": [
    {
     "data": {
      "text/plain": [
       "'\\navz7me@rivanna> python -m unittest test_montecarlo.py\\n............\\n----------------------------------------------------------------------\\nRan 12 tests in 0.022s\\n\\nOK\\navz7me@rivanna> \\n'"
      ]
     },
     "execution_count": 4,
     "metadata": {},
     "output_type": "execute_result"
    }
   ],
   "source": [
    "# A text block with the output of a successful test.\n",
    "'''\n",
    "avz7me@rivanna> python -m unittest test_montecarlo.py\n",
    "............\n",
    "----------------------------------------------------------------------\n",
    "Ran 12 tests in 0.022s\n",
    "\n",
    "OK\n",
    "avz7me@rivanna> \n",
    "'''\n"
   ]
  },
  {
   "cell_type": "markdown",
   "id": "d9ffe8c5-eb2f-4ad1-af76-a46550e4c7ac",
   "metadata": {},
   "source": [
    "## Import (1)\n",
    "\n",
    "Import your module here. This import should refer to the code in your package directory.\n",
    "\n",
    "- Module successuflly imported (1)."
   ]
  },
  {
   "cell_type": "code",
   "execution_count": 7,
   "id": "a05dffb3-e6d6-4f78-9df4-5abd0cf74ca9",
   "metadata": {
    "tags": []
   },
   "outputs": [],
   "source": [
    "import montecarlo "
   ]
  },
  {
   "cell_type": "markdown",
   "id": "f30c4842-65b1-4556-98b6-3fe1a07e1371",
   "metadata": {},
   "source": [
    "## Help Docs (4)\n",
    "\n",
    "Show your docstring documentation by applying `help()` to your imported module.\n",
    "\n",
    "- All methods have a docstring (3; .25 each).\n",
    "- All classes have a docstring (1; .33 each)."
   ]
  },
  {
   "cell_type": "code",
   "execution_count": 8,
   "id": "bf4fbf1f-9885-471c-a0a6-e9ca90e160de",
   "metadata": {
    "tags": []
   },
   "outputs": [
    {
     "name": "stdout",
     "output_type": "stream",
     "text": [
      "Help on module montecarlo:\n",
      "\n",
      "NAME\n",
      "    montecarlo\n",
      "\n",
      "DESCRIPTION\n",
      "    # Monte Carlo Module\n",
      "    # Pranav Thiriveedhi\n",
      "    # DS 5100 Final Project\n",
      "\n",
      "CLASSES\n",
      "    builtins.object\n",
      "        Analyzer\n",
      "        Die\n",
      "        Game\n",
      "    \n",
      "    class Analyzer(builtins.object)\n",
      "     |  Analyzer(game)\n",
      "     |  \n",
      "     |  A class to analyze the results of a game and computer varius statistics about it.\n",
      "     |  \n",
      "     |  Methods defined here:\n",
      "     |  \n",
      "     |  __init__(self, game)\n",
      "     |      Initializes the Analyzer with a Game object.\n",
      "     |      Parameters:\n",
      "     |      - game (Game): Game object.\n",
      "     |      Raises:\n",
      "     |      - ValueError: If the value is not a Game object.\n",
      "     |  \n",
      "     |  combo_counts(self)\n",
      "     |      Distinct combinations of rolled faces with counts.\n",
      "     |      Returns:\n",
      "     |      - pd.DataFrame: Data frame with combinations and counts.\n",
      "     |  \n",
      "     |  face_counts(self)\n",
      "     |      Counts of each face value for each roll.\n",
      "     |      Returns:\n",
      "     |      - pd.DataFrame: Data frame of results.\n",
      "     |  \n",
      "     |  jackpot(self)\n",
      "     |      Number of jackpots (all faces are the same in a roll).\n",
      "     |      Returns:\n",
      "     |      - int: How many times the game resulted in jackpots.\n",
      "     |  \n",
      "     |  permutation_counts(self)\n",
      "     |      Distinct permutations of rolled faces with counts.\n",
      "     |      Returns:\n",
      "     |      - pd.DataFrame: Data frame with permutations and counts.\n",
      "     |  \n",
      "     |  ----------------------------------------------------------------------\n",
      "     |  Data descriptors defined here:\n",
      "     |  \n",
      "     |  __dict__\n",
      "     |      dictionary for instance variables (if defined)\n",
      "     |  \n",
      "     |  __weakref__\n",
      "     |      list of weak references to the object (if defined)\n",
      "    \n",
      "    class Die(builtins.object)\n",
      "     |  Die(faces)\n",
      "     |  \n",
      "     |  Die has N sides and W weights, can be rolled to select a face.\n",
      "     |  If N = 2, it is a coin, if N = 6, it is a standard die.\n",
      "     |  \n",
      "     |  Methods defined here:\n",
      "     |  \n",
      "     |  __init__(self, faces)\n",
      "     |      Die with number of faces as an argument.\n",
      "     |      Parameters:\n",
      "     |      - faces: Array of number of faces.\n",
      "     |      Raises:\n",
      "     |      - TypeError: Number of faces is not a NumPy array.\n",
      "     |      - ValueError: Number of faces is not distinct.\n",
      "     |  \n",
      "     |  change_weight(self, face_value, new_weight)\n",
      "     |      Changes the weight of a face's value to a new weight.\n",
      "     |      Parameters:\n",
      "     |      - face_value: The face value to change the weight for.\n",
      "     |      - new_weight (int or float): The new weight value for the face specified.\n",
      "     |      Raises:\n",
      "     |      - IndexError: The face is not in the die array.\n",
      "     |      - TypeError: The weight is not numeric (int or float).\n",
      "     |  \n",
      "     |  roll(self, num_rolls=1)\n",
      "     |      How many times a die is rolled.\n",
      "     |      Parameters:\n",
      "     |      - num_rolls (int): Number of die rolls. Defaults to 1.\n",
      "     |      Returns:\n",
      "     |      - list: List of rolled faces.\n",
      "     |  \n",
      "     |  show(self)\n",
      "     |      Returns a copy of the private dataframe of the die's current status\n",
      "     |      Returns:\n",
      "     |      - pd.DataFrame: Data frame of current state of die.\n",
      "     |  \n",
      "     |  ----------------------------------------------------------------------\n",
      "     |  Data descriptors defined here:\n",
      "     |  \n",
      "     |  __dict__\n",
      "     |      dictionary for instance variables (if defined)\n",
      "     |  \n",
      "     |  __weakref__\n",
      "     |      list of weak references to the object (if defined)\n",
      "    \n",
      "    class Game(builtins.object)\n",
      "     |  Game(dice)\n",
      "     |  \n",
      "     |  Game involving rolling one or more die objects, one or more times.\n",
      "     |  \n",
      "     |  Methods defined here:\n",
      "     |  \n",
      "     |  __init__(self, dice)\n",
      "     |      List of similar dice.\n",
      "     |      Parameters:\n",
      "     |      - dice (list of Die): List of Die objects.\n",
      "     |  \n",
      "     |  play(self, num_rolls)\n",
      "     |      Rolls dice a specified number of times.\n",
      "     |      Parameters:\n",
      "     |      - num_rolls (int): Number of rolls to play.\n",
      "     |      Updates:\n",
      "     |      - _results_df (pd.DataFrame): Results of the game in wide format.\n",
      "     |  \n",
      "     |  show(self, form='wide')\n",
      "     |      Shows the results of the most recent play.\n",
      "     |      Parameters:\n",
      "     |      - form (str): wide or narrow format. Defaults to wide.\n",
      "     |      Returns:\n",
      "     |      - pd.DataFrame: Dataframe in wide or narrow format.\n",
      "     |      Raises:\n",
      "     |      - ValueError: If an invalid format is given.\n",
      "     |  \n",
      "     |  ----------------------------------------------------------------------\n",
      "     |  Data descriptors defined here:\n",
      "     |  \n",
      "     |  __dict__\n",
      "     |      dictionary for instance variables (if defined)\n",
      "     |  \n",
      "     |  __weakref__\n",
      "     |      list of weak references to the object (if defined)\n",
      "\n",
      "FILE\n",
      "    /sfs/gpfs/tardis/home/avz7me/Documents/MSDS/DS5100/DS5100-avz7me/lessons/M14/montecarlo.py\n",
      "\n",
      "\n"
     ]
    }
   ],
   "source": [
    "help(montecarlo)"
   ]
  },
  {
   "cell_type": "markdown",
   "id": "a9defa84-b395-4966-bd1c-5c6c2bb7ed68",
   "metadata": {},
   "source": [
    "## `README.md` File (3)\n",
    "\n",
    "Provide link to the README.md file of your project's repo.\n",
    "\n",
    "- Metadata section or info present (1).\n",
    "- Synopsis section showing how each class is called (1). (All must be included.)\n",
    "- API section listing all classes and methods (1). (All must be included.)"
   ]
  },
  {
   "cell_type": "markdown",
   "id": "ee090b33-d593-48a0-bf35-e739cea0942c",
   "metadata": {},
   "source": [
    "URL: https://github.com/prans792/ds5100_final_project/blob/main/README.md"
   ]
  },
  {
   "cell_type": "markdown",
   "id": "108604c8-8827-42ef-ab59-6b25428fc0ca",
   "metadata": {},
   "source": [
    "## Successful installation (2)\n",
    "\n",
    "Put a screenshot or paste a copy of a terminal session where you successfully install your module with pip.\n",
    "\n",
    "If pasting text, use a preformatted text block to show the results.\n",
    "\n",
    "- Installed with `pip` (1).\n",
    "- Successfully installed message appears (1)."
   ]
  },
  {
   "cell_type": "raw",
   "id": "1278db6a-aa53-4e5c-a749-93a87ab239e0",
   "metadata": {},
   "source": [
    "# Pasted code\n",
    "avz7me@rivanna> pip install montecarlo\n",
    "Defaulting to user installation because normal site-packages is not writeable\n",
    "Collecting montecarlo\n",
    "  Downloading montecarlo-0.1.17.tar.gz (1.3 kB)\n",
    "  Preparing metadata (setup.py) ... done\n",
    "Building wheels for collected packages: montecarlo\n",
    "  Building wheel for montecarlo (setup.py) ... done\n",
    "  Created wheel for montecarlo: filename=montecarlo-0.1.17-py3-none-any.whl size=1855 sha256=4b41b6095cf251880a213e30ec50fa2531e0b7b90036b20cdedf521a9f797246\n",
    "  Stored in directory: /sfs/gpfs/tardis/home/avz7me/.cache/pip/wheels/de/e6/71/7b154b0efbecff8148514fc7a23ee95da4bef69619357e9027\n",
    "Successfully built montecarlo\n",
    "Installing collected packages: montecarlo\n",
    "Successfully installed montecarlo-0.1.17\n",
    "avz7me@rivanna> "
   ]
  },
  {
   "cell_type": "markdown",
   "id": "7c44695d-d1b3-4edf-9f94-e64d7446f199",
   "metadata": {},
   "source": [
    "# Scenarios\n",
    "\n",
    "Use code blocks to perform the tasks for each scenario.\n",
    "\n",
    "Be sure the outputs are visible before submitting."
   ]
  },
  {
   "cell_type": "code",
   "execution_count": 10,
   "id": "3d63253d-9378-4a12-b881-4567b1797cf7",
   "metadata": {
    "tags": []
   },
   "outputs": [],
   "source": [
    "import numpy as np\n",
    "import pandas as pd\n",
    "import matplotlib.pyplot as plt\n",
    "from montecarlo import Die, Game, Analyzer"
   ]
  },
  {
   "cell_type": "markdown",
   "id": "e2479eae-6fc9-44cd-b8d7-9b22cb501f2a",
   "metadata": {
    "tags": []
   },
   "source": [
    "## Scenario 1: A 2-headed Coin (9)\n",
    "\n",
    "Task 1. Create a fair coin (with faces $H$ and $T$) and one unfair coin in which one of the faces has a weight of $5$ and the others $1$.\n",
    "\n",
    "- Fair coin created (1).\n",
    "- Unfair coin created with weight as specified (1)."
   ]
  },
  {
   "cell_type": "code",
   "execution_count": 11,
   "id": "55ce498e-c75f-4425-9e3e-b635bd6cd9e1",
   "metadata": {
    "tags": []
   },
   "outputs": [],
   "source": [
    "fair_coin = Die(np.array(['H', 'T']))\n",
    "unfair_coin = Die(np.array(['H', 'T']))\n",
    "unfair_coin.change_weight('H', 5)\n"
   ]
  },
  {
   "cell_type": "markdown",
   "id": "02b272ab-99da-4b6e-ac2a-555b73e09c07",
   "metadata": {},
   "source": [
    "Task 2. Play a game of $1000$ flips with two fair dice.\n",
    "\n",
    "- Play method called correclty and without error (1)."
   ]
  },
  {
   "cell_type": "code",
   "execution_count": 12,
   "id": "65c92601-d32d-4326-b215-74953aee27f2",
   "metadata": {
    "tags": []
   },
   "outputs": [],
   "source": [
    "game1 = Game([fair_coin, fair_coin])\n",
    "game1.play(1000)"
   ]
  },
  {
   "cell_type": "markdown",
   "id": "7d9c3dc8-22c1-4cae-81fb-d68d774a05d1",
   "metadata": {},
   "source": [
    "Task 3. Play another game (using a new Game object) of $1000$ flips, this time using two unfair dice and one fair die. For the second unfair die, you can use the same die object twice in the list of dice you pass to the Game object.\n",
    "\n",
    "- New game object created (1).\n",
    "- Play method called correclty and without error (1)."
   ]
  },
  {
   "cell_type": "code",
   "execution_count": 13,
   "id": "d4098bed-1eb2-4084-8d5e-9fda07c3be43",
   "metadata": {
    "tags": []
   },
   "outputs": [],
   "source": [
    "game2 = Game([unfair_coin, unfair_coin, fair_coin])\n",
    "game2.play(1000)"
   ]
  },
  {
   "cell_type": "markdown",
   "id": "f690ebfc-fe71-4eb2-976d-7ac80ca6c23f",
   "metadata": {},
   "source": [
    "Task 4. For each game, use an Analyzer object to determine the raw frequency of jackpots — i.e. getting either all $H$s or all $T$s.\n",
    "\n",
    "- Analyzer objecs instantiated for both games (1).\n",
    "- Raw frequencies reported for both (1)."
   ]
  },
  {
   "cell_type": "code",
   "execution_count": 14,
   "id": "b26b8b7e-3be7-4476-a9a4-37d97536729e",
   "metadata": {
    "tags": []
   },
   "outputs": [],
   "source": [
    "analyzer1 = Analyzer(game1)\n",
    "analyzer2 = Analyzer(game2)\n",
    "jackpots_game1 = analyzer1.jackpot()\n",
    "jackpots_game2 = analyzer2.jackpot()"
   ]
  },
  {
   "cell_type": "markdown",
   "id": "b73d233c-445e-40cd-8858-0c5e1f097105",
   "metadata": {},
   "source": [
    "Task 5. For each analyzer, compute relative frequency as the number of jackpots over the total number of rolls.\n",
    "\n",
    "- Both relative frequencies computed (1)."
   ]
  },
  {
   "cell_type": "code",
   "execution_count": 15,
   "id": "9a96b31b-1b9d-496e-be3e-4bf83c45ec3a",
   "metadata": {
    "tags": []
   },
   "outputs": [],
   "source": [
    "relative_freq_game1 = jackpots_game1 / 1000\n",
    "relative_freq_game2 = jackpots_game2 / 1000"
   ]
  },
  {
   "cell_type": "markdown",
   "id": "a6e1e734-7f5c-4721-8ba4-2f3a424cf984",
   "metadata": {},
   "source": [
    "Task 6. Show your results, comparing the two relative frequencies, in a simple bar chart.\n",
    "\n",
    "- Bar chart plotted and correct (1)."
   ]
  },
  {
   "cell_type": "code",
   "execution_count": 17,
   "id": "473fa67c-aa53-4aa3-a0b7-e8772b3f6ed3",
   "metadata": {
    "tags": []
   },
   "outputs": [
    {
     "data": {
      "image/png": "[encoded data removed]",
      "text/plain": [
       "<Figure size 640x480 with 1 Axes>"
      ]
     },
     "metadata": {},
     "output_type": "display_data"
    }
   ],
   "source": [
    "plt.bar(['Game 1 (Fair)', 'Game 2 (Fair and Unfair)'], [relative_freq_game1, relative_freq_game2], color=['blue', 'green'])\n",
    "plt.title('Relative Frequencies of Jackpots')\n",
    "plt.ylabel('Relative Frequency')\n",
    "plt.show()"
   ]
  },
  {
   "cell_type": "markdown",
   "id": "725cfa5b-e4b7-47c9-86aa-8d9e1fe6c8c7",
   "metadata": {},
   "source": [
    "## Scenario 2: A 6-sided Die (9)\n",
    "\n",
    "Task 1. Create three dice, each with six sides having the faces 1 through 6.\n",
    "\n",
    "- Three die objects created (1)."
   ]
  },
  {
   "cell_type": "code",
   "execution_count": 18,
   "id": "6a8bc611-325a-4e05-88d5-980e0a2cf7c5",
   "metadata": {
    "tags": []
   },
   "outputs": [],
   "source": [
    "die1 = Die(np.array([1, 2, 3, 4, 5, 6]))\n",
    "die2 = Die(np.array([1, 2, 3, 4, 5, 6]))\n",
    "die3 = Die(np.array([1, 2, 3, 4, 5, 6]))"
   ]
  },
  {
   "cell_type": "markdown",
   "id": "2ed3ad26-fbe9-43bd-9ad7-f683a4191d12",
   "metadata": {},
   "source": [
    "Task 2. Convert one of the dice to an unfair one by weighting the face $6$ five times more than the other weights (i.e. it has weight of 5 and the others a weight of 1 each).\n",
    "\n",
    "- Unfair die created with proper call to weight change method (1)."
   ]
  },
  {
   "cell_type": "code",
   "execution_count": 19,
   "id": "e33dd18f-7f90-456d-a680-61c08a328e21",
   "metadata": {
    "tags": []
   },
   "outputs": [],
   "source": [
    "die2.change_weight(6, 5)"
   ]
  },
  {
   "cell_type": "markdown",
   "id": "7f6c062a-4c5b-45b9-96b8-76a0354c7e47",
   "metadata": {},
   "source": [
    "Task 3. Convert another of the dice to be unfair by weighting the face $1$ five times more than the others.\n",
    "\n",
    "- Unfair die created with proper call to weight change method (1)."
   ]
  },
  {
   "cell_type": "code",
   "execution_count": 20,
   "id": "01133a4e-6b06-4246-8d90-8e6d6995be51",
   "metadata": {
    "tags": []
   },
   "outputs": [],
   "source": [
    "die3.change_weight(1, 5)\n"
   ]
  },
  {
   "cell_type": "markdown",
   "id": "f0ed31cb-0a3c-4eb2-b85e-6ed6b2eb6e58",
   "metadata": {},
   "source": [
    "Task 4. Play a game of $10000$ rolls with $5$ fair dice.\n",
    "\n",
    "- Game class properly instantiated (1). \n",
    "- Play method called properly (1)."
   ]
  },
  {
   "cell_type": "code",
   "execution_count": 21,
   "id": "e92395a4-9ed8-4cb0-8c85-38768a784ffc",
   "metadata": {
    "tags": []
   },
   "outputs": [],
   "source": [
    "game3 = Game([die1, die1, die1, die1, die1])\n",
    "game3.play(10000)"
   ]
  },
  {
   "cell_type": "markdown",
   "id": "7814b402-46a4-40e5-8141-20e05c3e646b",
   "metadata": {},
   "source": [
    "Task 5. Play another game of $10000$ rolls, this time with $2$ unfair dice, one as defined in steps #2 and #3 respectively, and $3$ fair dice.\n",
    "\n",
    "- Game class properly instantiated (1). \n",
    "- Play method called properly (1)."
   ]
  },
  {
   "cell_type": "code",
   "execution_count": 22,
   "id": "7cd58fba-b2a5-4d5d-bc6d-2a7a68d18c4f",
   "metadata": {
    "tags": []
   },
   "outputs": [],
   "source": [
    "game4 = Game([die2, die3, die1, die1, die1])\n",
    "game4.play(10000)"
   ]
  },
  {
   "cell_type": "markdown",
   "id": "7b6cd372-2bb8-4df8-ade1-8f48bc300955",
   "metadata": {},
   "source": [
    "Task 6. For each game, use an Analyzer object to determine the relative frequency of jackpots and show your results, comparing the two relative frequencies, in a simple bar chart.\n",
    "\n",
    "- Jackpot methods called (1).\n",
    "- Graph produced (1)."
   ]
  },
  {
   "cell_type": "code",
   "execution_count": 25,
   "id": "bbdcf695-8937-406e-9b53-aa0b9ee3c59a",
   "metadata": {
    "tags": []
   },
   "outputs": [
    {
     "data": {
      "image/png": "[encoded data removed]",
      "text/plain": [
       "<Figure size 640x480 with 1 Axes>"
      ]
     },
     "metadata": {},
     "output_type": "display_data"
    }
   ],
   "source": [
    "analyzer3 = Analyzer(game3)\n",
    "analyzer4 = Analyzer(game4)\n",
    "rel_freq_game3 = analyzer3.jackpot() / 10000\n",
    "rel_freq_game4 = analyzer4.jackpot() / 10000\n",
    "\n",
    "plt.bar(['Game 3 (All Fair)', 'Game 4 (fair and unfair)'], [rel_freq_game3, rel_freq_game4], color=['blue', 'green'])\n",
    "plt.title('Relative Frequencies of Jackpots')\n",
    "plt.ylabel('Relative Frequency')\n",
    "plt.show()"
   ]
  },
  {
   "cell_type": "markdown",
   "id": "9f04e9be-8fcf-4ea4-a391-6614608285f8",
   "metadata": {},
   "source": [
    "## Scenario 3: Letters of the Alphabet (7)\n",
    "\n",
    "Task 1. Create a \"die\" of letters from $A$ to $Z$ with weights based on their frequency of usage as found in the data file `english_letters.txt`. Use the frequencies (i.e. raw counts) as weights.\n",
    "\n",
    "- Die correctly instantiated with source file data (1).\n",
    "- Weights properly applied using weight setting method (1)."
   ]
  },
  {
   "cell_type": "code",
   "execution_count": 27,
   "id": "b0ceb771-3cdf-4d8f-8c2c-020806bbb909",
   "metadata": {
    "tags": []
   },
   "outputs": [],
   "source": [
    "letter_weights = pd.read_csv('english_letters.txt', header=None, names=['Letter', 'Frequency'])\n",
    "letters = letter_weights['Letter'].to_numpy()\n",
    "frequencies = letter_weights['Frequency'].to_numpy()\n",
    "\n",
    "letter_die = Die(letters)\n",
    "for i, letter in enumerate(letters):\n",
    "    letter_die.change_weight(letter, frequencies[i])"
   ]
  },
  {
   "cell_type": "markdown",
   "id": "88e2e14a-6223-470a-a2c8-bca1120d7a5b",
   "metadata": {},
   "source": [
    "Task 2. Play a game involving $4$ of these dice with $1000$ rolls.\n",
    "\n",
    "- Game play method properly called (1)."
   ]
  },
  {
   "cell_type": "code",
   "execution_count": null,
   "id": "2ae087cc-936d-4f1e-bddb-a7c179d139e0",
   "metadata": {
    "tags": []
   },
   "outputs": [],
   "source": []
  },
  {
   "cell_type": "markdown",
   "id": "3b9ff800-bf1f-4f66-9d7f-ff57a648e9f0",
   "metadata": {},
   "source": [
    "Task 3. Determine how many permutations in your results are actual English words, based on the vocabulary found in `scrabble_words.txt`.\n",
    "\n",
    "- Use permutation method (1).\n",
    "- Get count as difference between permutations and vocabulary (1)."
   ]
  },
  {
   "cell_type": "code",
   "execution_count": null,
   "id": "ed1c7fa0-cfa3-4cf4-9fd0-9f84b86b0f64",
   "metadata": {
    "tags": []
   },
   "outputs": [],
   "source": []
  },
  {
   "cell_type": "markdown",
   "id": "fcf068cf-381a-4b3e-ac3a-0510eb4dbdb0",
   "metadata": {},
   "source": [
    "Task 4. Repeat steps #2 and #3, this time with $5$ dice. How many actual words does this produce? Which produces more?\n",
    "\n",
    "- Successfully repreats steps (1).\n",
    "- Identifies parameter with most found words (1)."
   ]
  },
  {
   "cell_type": "code",
   "execution_count": null,
   "id": "69f0379e-3940-4591-863d-2454a14267b4",
   "metadata": {},
   "outputs": [],
   "source": []
  }
 ],
 "metadata": {
  "kernelspec": {
   "display_name": "Python 3 (ipykernel)",
   "language": "python",
   "name": "python3"
  },
  "language_info": {
   "codemirror_mode": {
    "name": "ipython",
    "version": 3
   },
   "file_extension": ".py",
   "mimetype": "text/x-python",
   "name": "python",
   "nbconvert_exporter": "python",
   "pygments_lexer": "ipython3",
   "version": "3.11.4"
  },
  "toc-autonumbering": true,
  "widgets": {
   "application/vnd.jupyter.widget-state+json": {
    "state": {},
    "version_major": 2,
    "version_minor": 0
   }
  }
 },
 "nbformat": 4,
 "nbformat_minor": 5
}
